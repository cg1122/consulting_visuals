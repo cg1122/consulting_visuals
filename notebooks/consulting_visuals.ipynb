{
 "cells": [
  {
   "cell_type": "code",
   "execution_count": 1,
   "metadata": {},
   "outputs": [],
   "source": [
    "import pandas as pd\n",
    "import sys\n",
    "sys.path.insert(1, '../src')\n",
    "import cams_work"
   ]
  },
  {
   "cell_type": "code",
   "execution_count": 2,
   "metadata": {},
   "outputs": [],
   "source": [
    "contracts, customers = cams_work.load_data()\n",
    " "
   ]
  },
  {
   "cell_type": "code",
   "execution_count": 3,
   "metadata": {},
   "outputs": [],
   "source": [
    "costumers = cams_work.load_data()\n"
   ]
  },
  {
   "cell_type": "code",
   "execution_count": 4,
   "metadata": {},
   "outputs": [],
   "source": [
    "df = cams_work.combine_data(contracts, customers)\n"
   ]
  },
  {
   "cell_type": "code",
   "execution_count": 5,
   "metadata": {},
   "outputs": [
    {
     "name": "stdout",
     "output_type": "stream",
     "text": [
      "             contract_id contract_start  contract_term     deposit  \\\n",
      "customer_id                                                          \n",
      "1                     41      5/31/2019             24  $86,000.00   \n",
      "1                    358      6/18/2019             13  $74,000.00   \n",
      "1                    400      8/11/2019             19  $38,000.00   \n",
      "1                    424      3/13/2019             15  $77,000.00   \n",
      "1                    438     10/16/2019             22  $39,000.00   \n",
      "...                  ...            ...            ...         ...   \n",
      "200                  284     12/28/2019             17  $78,000.00   \n",
      "200                  540      4/17/2019              3  $65,000.00   \n",
      "200                  630      11/1/2019             12  $85,000.00   \n",
      "200                  862      10/2/2019             21  $48,000.00   \n",
      "200                  973      8/21/2019              1  $47,000.00   \n",
      "\n",
      "             monthly_amt    company         sector  \\\n",
      "customer_id                                          \n",
      "1                11200.0  Bubblebox  Capital Goods   \n",
      "1                19000.0  Bubblebox  Capital Goods   \n",
      "1                 8800.0  Bubblebox  Capital Goods   \n",
      "1                14300.0  Bubblebox  Capital Goods   \n",
      "1                20000.0  Bubblebox  Capital Goods   \n",
      "...                  ...        ...            ...   \n",
      "200              17600.0      Kwinu    Health Care   \n",
      "200               9800.0      Kwinu    Health Care   \n",
      "200              12600.0      Kwinu    Health Care   \n",
      "200               6500.0      Kwinu    Health Care   \n",
      "200              12300.0      Kwinu    Health Care   \n",
      "\n",
      "                                                      industry  \\\n",
      "customer_id                                                      \n",
      "1                                Military/Government/Technical   \n",
      "1                                Military/Government/Technical   \n",
      "1                                Military/Government/Technical   \n",
      "1                                Military/Government/Technical   \n",
      "1                                Military/Government/Technical   \n",
      "...                                                        ...   \n",
      "200          Biotechnology: Biological Products (No Diagnos...   \n",
      "200          Biotechnology: Biological Products (No Diagnos...   \n",
      "200          Biotechnology: Biological Products (No Diagnos...   \n",
      "200          Biotechnology: Biological Products (No Diagnos...   \n",
      "200          Biotechnology: Biological Products (No Diagnos...   \n",
      "\n",
      "                                email              address         city state  \\\n",
      "customer_id                                                                     \n",
      "1            kyerson0@bizjournals.com      76 Randy Circle    San Diego    CA   \n",
      "1            kyerson0@bizjournals.com      76 Randy Circle    San Diego    CA   \n",
      "1            kyerson0@bizjournals.com      76 Randy Circle    San Diego    CA   \n",
      "1            kyerson0@bizjournals.com      76 Randy Circle    San Diego    CA   \n",
      "1            kyerson0@bizjournals.com      76 Randy Circle    San Diego    CA   \n",
      "...                               ...                  ...          ...   ...   \n",
      "200          nrenak5j@tripadvisor.com  80 Valley Edge Park  Los Angeles    CA   \n",
      "200          nrenak5j@tripadvisor.com  80 Valley Edge Park  Los Angeles    CA   \n",
      "200          nrenak5j@tripadvisor.com  80 Valley Edge Park  Los Angeles    CA   \n",
      "200          nrenak5j@tripadvisor.com  80 Valley Edge Park  Los Angeles    CA   \n",
      "200          nrenak5j@tripadvisor.com  80 Valley Edge Park  Los Angeles    CA   \n",
      "\n",
      "               zip  \n",
      "customer_id         \n",
      "1            92170  \n",
      "1            92170  \n",
      "1            92170  \n",
      "1            92170  \n",
      "1            92170  \n",
      "...            ...  \n",
      "200          90055  \n",
      "200          90055  \n",
      "200          90055  \n",
      "200          90055  \n",
      "200          90055  \n",
      "\n",
      "[1000 rows x 13 columns]\n"
     ]
    }
   ],
   "source": [
    "df['monthly_amt'] = df['monthly_amt'].replace('[\\$\\,]', '', regex=True).astype(float)\n",
    "print(df)"
   ]
  },
  {
   "cell_type": "code",
   "execution_count": null,
   "metadata": {},
   "outputs": [],
   "source": []
  }
 ],
 "metadata": {
  "kernelspec": {
   "display_name": "Python 3",
   "language": "python",
   "name": "python3"
  },
  "language_info": {
   "codemirror_mode": {
    "name": "ipython",
    "version": 3
   },
   "file_extension": ".py",
   "mimetype": "text/x-python",
   "name": "python",
   "nbconvert_exporter": "python",
   "pygments_lexer": "ipython3",
   "version": "3.8.5"
  }
 },
 "nbformat": 4,
 "nbformat_minor": 4
}
