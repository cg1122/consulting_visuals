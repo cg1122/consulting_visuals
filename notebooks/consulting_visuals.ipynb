{
 "cells": [
  {
   "cell_type": "code",
   "execution_count": 1,
   "metadata": {},
   "outputs": [],
   "source": [
    "import pandas as pd\n",
    "import sys\n",
    "sys.path.insert(1, '../src')\n",
    "import cams_work"
   ]
  },
  {
   "cell_type": "code",
   "execution_count": 2,
   "metadata": {},
   "outputs": [],
   "source": [
    "contracts, customers = cams_work.load_data()\n",
    " "
   ]
  },
  {
   "cell_type": "code",
   "execution_count": 3,
   "metadata": {},
   "outputs": [],
   "source": [
    "costumers = cams_work.load_data()\n"
   ]
  },
  {
   "cell_type": "code",
   "execution_count": 4,
   "metadata": {},
   "outputs": [],
   "source": [
    "df = cams_work.combine_data(contracts, customers)\n"
   ]
  },
  {
   "cell_type": "code",
   "execution_count": 5,
   "metadata": {},
   "outputs": [],
   "source": [
    "# Cam: chane number types\n",
    "df['monthly_amt'] = df['monthly_amt'].replace('[\\$\\,]', '', regex=True).astype(float)\n",
    "\n",
    "df['deposit'] = df['deposit'].replace('[\\$\\,]','', regex = True).astype(float)\n",
    "\n",
    "df['contract_term'] = df['contract_term'].astype(float)\n"
   ]
  },
  {
   "cell_type": "code",
   "execution_count": 6,
   "metadata": {},
   "outputs": [
    {
     "data": {
      "image/png": "[encoded data removed]",
      "text/plain": [
       "<Figure size 432x288 with 1 Axes>"
      ]
     },
     "metadata": {
      "needs_background": "light"
     },
     "output_type": "display_data"
    }
   ],
   "source": [
    "# Cam: Bar Chart \n",
    "cam_plot = df.plot.bar (x='industry', y='monthly_amt', rot=0)"
   ]
  },
  {
   "cell_type": "markdown",
   "metadata": {},
   "source": [
    "The graph (although the x axis is large given industry titles), shows the breakdown of monthly revenue coming from each industry. This will allow the company to determine what indsutries make up the majority of revenue while other industries might be lagging. From here, if an industry doesn't have a lot of opportunity for scalability then they can cut the production and focus on other \"high growth\" business segments. "
   ]
  }
 ],
 "metadata": {
  "kernelspec": {
   "display_name": "Python 3",
   "language": "python",
   "name": "python3"
  },
  "language_info": {
   "codemirror_mode": {
    "name": "ipython",
    "version": 3
   },
   "file_extension": ".py",
   "mimetype": "text/x-python",
   "name": "python",
   "nbconvert_exporter": "python",
   "pygments_lexer": "ipython3",
   "version": "3.8.5"
  }
 },
 "nbformat": 4,
 "nbformat_minor": 4
}
